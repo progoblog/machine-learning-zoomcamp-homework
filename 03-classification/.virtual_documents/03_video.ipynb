





import pandas as pd
import numpy as np

import matplotlib.pyplot as plt





#data_url = 'https://raw.githubusercontent.com/alexeygrigorev/mlbookcamp-code/master/chapter-03-churn-prediction/WA_Fn-UseC_-Telco-Customer-Churn.csv'
#!wget $data_url -O data.csv


df = pd.read_csv('data.csv')
df.head().T


df.columns = df.columns.str.lower().str.replace(' ', '_')
categorical_columns = list(df.dtypes[df.dtypes == 'object'].index)
for c in categorical_columns:
    df[c] = df[c].str.lower().str.replace(' ', '_')


df.head().T


tc = pd.to_numeric(df.totalcharges, errors='coerce')
df[tc.isnull()][['customerid', 'totalcharges']]


df.totalcharges = pd.to_numeric(df.totalcharges, errors='coerce')
df.totalcharges = df.totalcharges.fillna(0)


df.churn = (df.churn == 'yes').astype(int)





from sklearn.model_selection import train_test_split


df_full_train, df_test = train_test_split(df, test_size=0.2, random_state=1)
len(df_full_train), len(df_test)


df_train, df_val = train_test_split(df_full_train, test_size=0.25, random_state=1)
len(df_train), len(df_val), len(df_test)


df_train = df_train.reset_index(drop=True)
df_val = df_val.reset_index(drop=True)
df_test = df_test.reset_index(drop=True)

y_train = df_train.churn.values
y_val = df_val.churn.values
y_test = df_test.churn.values

del df_train['churn']
del df_val['churn']
del df_test['churn']





df_full_train = df_full_train.reset_index(drop=True)


df_full_train.isnull().sum()


df_full_train.churn.value_counts()


df_full_train.churn.value_counts(normalize=True)


global_churn_rate = df_full_train.churn.mean()
round(global_churn_rate, 2)


numerical = ['tenure', 'monthlycharges', 'totalcharges',]
categorical = [
    'gender', 'seniorcitizen', 'partner', 'dependents',
    'phoneservice', 'multiplelines', 'internetservice',
    'onlinesecurity', 'onlinebackup', 'deviceprotection', 'techsupport',
    'streamingtv', 'streamingmovies', 'contract', 'paperlessbilling',
    'paymentmethod',
]


df_full_train[categorical].nunique()








churn_female = df_full_train[df_full_train.gender == 'female'].churn.mean()
churn_male = df_full_train[df_full_train.gender == 'male'].churn.mean()
churn_female, churn_male, global_churn_rate


churn_partner = df_full_train[df_full_train.partner == 'yes'].churn.mean()
churn_no_partner = df_full_train[df_full_train.partner == 'no'].churn.mean()
churn_partner, churn_no_partner, global_churn_rate





churn_no_partner / global_churn_rate, churn_partner / global_churn_rate


from IPython.display import display


for c in categorical:
    df_group = df_full_train.groupby(c).churn.agg(['mean', 'count'])
    df_group['diff'] = df_group['mean'] - global_churn_rate
    df_group['risk'] = df_group['mean'] / global_churn_rate
    display(df_group)
    print()
    print()





from sklearn.metrics import mutual_info_score


mutual_info_score(df_full_train.churn, df_full_train.contract)


mutual_info_score(df_full_train.churn, df_full_train.gender)


mutual_info_score(df_full_train.churn, df_full_train.partner)


def mutual_info_churn_score(series):
    return mutual_info_score(series, df_full_train.churn)


mi = df_full_train[categorical].apply(mutual_info_churn_score)
mi.sort_values(ascending=False)





df_full_train[numerical].corrwith(df_full_train.churn)


df_full_train[df_full_train.tenure <= 2].churn.mean()


df_full_train[(df_full_train.tenure > 2) & (df_full_train.tenure <= 12)].churn.mean()


df_full_train[df_full_train.tenure > 12].churn.mean()





from sklearn.feature_extraction import DictVectorizer


df_train[['gender', 'contract']].iloc[:10]


dicts = df_train[['gender', 'contract']].iloc[:100].to_dict(orient='records')
dv = DictVectorizer(sparse=False)
dv.fit(dicts)


dv.transform(dicts)[:5]


dv.get_feature_names_out()


train_dicts = df_train[categorical + numerical].to_dict(orient='records')
dv = DictVectorizer(sparse=False)
X_train = dv.fit_transform(train_dicts)


val_dicts = df_val[categorical + numerical].to_dict(orient='records')
X_val = dv.transform(val_dicts)


print(X_val[0])





def sigmoid(z):
    return 1 / (1 + np.exp(-z))

z = np.linspace(-10, 10, 51)
y = sigmoid(z)
plt.plot(z, y)


def linear_regression(xi, w0, w):
    result = w0
    for j in range(len(w)):
        result += xi[j]*w[j]
    return result

def logistic_regression(xi, w0, w):
    score = w0
    for j in range(len(w)):
        score += xi[j]*w[j]
    result = sigmoid(score)
    return result





from sklearn.linear_model import LogisticRegression


model = LogisticRegression(max_iter=100000)
model.fit(X_train, y_train)


model.coef_[0].round(3)


model.intercept_[0]


model.predict(X_train)  # hard prediction


model.predict_proba(X_train)  # soft prediction


y_pred = model.predict_proba(X_val)[:, 1]
y_pred


churn_decision = (y_pred >= 0.5)
churn_decision


df_val[churn_decision].customerid  # ids of customers who are going to churn


churn_decision.astype(int)


y_val


(y_val == churn_decision).mean()


df_pred = pd.DataFrame()
df_pred['probability'] = y_pred
df_pred['prediction'] = churn_decision.astype(int)
df_pred['actual'] = y_val
df_pred['correct'] = df_pred.prediction == df_pred.actual
df_pred[df_pred.correct == False]


df_pred.correct.mean()





model.coef_[0].round(3)


dv.get_feature_names_out()


dict(zip(dv.get_feature_names_out(), model.coef_[0].round(3)))


small = ['contract', 'tenure', 'monthlycharges']
df_train[small].iloc[:10].to_dict(orient='records')


dicts_train_small = df_train[small].to_dict(orient='records')
dicts_val_small = df_val[small].to_dict(orient='records')


dv_small = DictVectorizer(sparse=False)
dv_small.fit(dicts_train_small)


dv_small.get_feature_names_out()


X_train_small = dv_small.transform(dicts_train_small)


model_small = LogisticRegression()
model_small.fit(X_train_small, y_train)


w0 = model_small.intercept_[0]
w0


w = model_small.coef_[0]
w.round(3)


dict(zip(dv_small.get_feature_names_out(), w.round(3)))





dicts_full_train = df_full_train[categorical + numerical].to_dict(orient='records')
dv = DictVectorizer(sparse=False)
X_full_train = dv.fit_transform(dicts_full_train)
y_full_train = df_full_train.churn.values
model = LogisticRegression(max_iter=10000).fit(X_full_train, y_full_train)


dicts_test = df_test[categorical + numerical].to_dict(orient='records')
X_test = dv.transform(dicts_test)
y_pred = model.predict_proba(X_test)[:, 1]


churn_decision = (y_pred >= 0.5)
(churn_decision == y_test).mean()


customer = dicts_test[10]
customer


X_small = dv.transform([customer])
model.predict_proba(X_small)[0, 1]


y_test[10]


customer = dicts_test[-1]
customer


X_small = dv.transform([customer])
model.predict_proba(X_small)[0, 1]


y_test[-1]



