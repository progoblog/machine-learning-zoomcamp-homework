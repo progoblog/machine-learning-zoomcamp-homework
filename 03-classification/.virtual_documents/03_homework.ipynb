





import numpy as np
import pandas as pd
import matplotlib.pyplot as plt
import seaborn as sns





data_url = 'https://raw.githubusercontent.com/alexeygrigorev/datasets/master/course_lead_scoring.csv'
get_ipython().getoutput("wget $data_url")





df = pd.read_csv('course_lead_scoring.csv')
df.head()


df.dtypes


categorical = ['lead_source', 'industry', 'employment_status', 'location',]
numerical = ['number_of_courses_viewed', 'annual_income', 'interaction_count', 'lead_score',]


df[categorical].isnull().sum()


df[categorical] = df[categorical].fillna('NA')


df.annual_income = df.annual_income.fillna(0.0)


df.isnull().sum()





from sklearn.model_selection import train_test_split
from IPython.display import display


df_full = df.copy()
y_full = df_full.converted.values
del df_full['converted']
display(df_full.head())
print(df_full.shape)
display(y_full)


df_full_train, df_test, y_full_train, y_test = train_test_split(df_full, y_full, test_size=0.2, random_state=42)
print(df_full_train.shape, df_test.shape, len(y_full_train), len(y_test))


df_train, df_val, y_train, y_val = train_test_split(df_full_train, y_full_train, test_size=0.25, random_state=42)
print(df_train.shape, df_val.shape, df_test.shape, len(y_train), len(y_val), len(y_test))




















df.industry.value_counts()








corr_matrix = df[numerical].corr()
corr_matrix


sns.heatmap(corr_matrix, annot=True, cmap='coolwarm')
plt.title("Correlation Matrix Heatmap")
plt.show()








from sklearn.metrics import mutual_info_score


def mi_score(series):
    return mutual_info_score(y_train, series)


mi = df_train[categorical].apply(mi_score).round(2)
mi.sort_values(ascending=False)








from sklearn.feature_extraction import DictVectorizer
from sklearn.linear_model import LogisticRegression


dicts_train = df_train[categorical + numerical].to_dict(orient='records')
dv = DictVectorizer(sparse=False)
X_train = dv.fit_transform(dicts_train)
dv.get_feature_names_out()


dicts_val = df_val[categorical + numerical].to_dict(orient='records')
X_val = dv.transform(dicts_val)
X_val[0]


model_train = LogisticRegression(solver='liblinear', C=1.0, max_iter=1000, random_state=42)
model_train.fit(X_train, y_train)


model_train.intercept_[0], model_train.coef_[0].round(3)


y_pred = model_train.predict(X_val)
y_pred


(y_val == y_pred).mean().round(4)


y_pred = model_train.predict_proba(X_val)[:, 1]
y_pred[:5]


converted_decision = (y_pred >= 0.5)
converted_decision[:5]


(y_val.astype('int') == converted_decision).mean().round(4)








def train_and_validate_model(features):
    # feature matrix for train set
    dicts_train = df_train[features].to_dict(orient='records')
    dv = DictVectorizer(sparse=False)
    X_train = dv.fit_transform(dicts_train)
    # feature matrix for validation set
    dicts_val = df_val[features].to_dict(orient='records')
    X_val = dv.transform(dicts_val)
    # train model
    model = LogisticRegression(solver='liblinear', C=1.0, max_iter=1000, random_state=42)
    model.fit(X_train, y_train)
    # validate
    y_pred = model.predict(X_val)
    return (y_val.astype('int') == y_pred).mean()


all_features = categorical + numerical
accuracies = {}
for absent_feature in ['none'] + all_features:
    features = set(all_features.copy())
    features.discard(absent_feature)
    features = list(features)
    print(absent_feature, features)
    accuracy = train_and_validate_model(features)
    accuracies[absent_feature] = accuracy
print(accuracies)


df_acc = pd.DataFrame()
acc_items = accuracies.items()
df_acc['absent_feature'] = list(map(lambda x: x[0], acc_items))
df_acc['acc'] = list(map(lambda x: x[1], acc_items))
df_acc


base_acc = df_acc[df_acc.absent_feature == 'none'].acc.values[0]
df_acc['diff'] = base_acc - df_acc['acc']
df_acc['abs_diff'] = df_acc['diff'].abs()
df_acc.sort_values('abs_diff')








Cs = [0.01, 0.1, 1, 10, 100, 1000, 10000]
accs = {}
# feature matrix for train set
features = categorical + numerical
dicts_train = df_train[features].to_dict(orient='records')
dv = DictVectorizer(sparse=False)
X_train = dv.fit_transform(dicts_train)
# feature matrix for validation set
dicts_val = df_val[features].to_dict(orient='records')
X_val = dv.transform(dicts_val)
for c in Cs:
    # train model
    model = LogisticRegression(solver='liblinear', C=c, max_iter=10000, random_state=42)
    model.fit(X_train, y_train)
    # validate
    y_pred = model.predict(X_val)
    acc = (y_val.astype('int') == y_pred).mean().round(4)
    accs[c] = acc


accs






