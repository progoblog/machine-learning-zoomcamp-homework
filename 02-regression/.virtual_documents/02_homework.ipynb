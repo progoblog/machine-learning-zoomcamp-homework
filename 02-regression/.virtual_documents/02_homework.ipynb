





import pandas as pd
import numpy as np
import matplotlib.pyplot as plt
import seaborn as sns
from functools import partial





data = 'https://raw.githubusercontent.com/alexeygrigorev/datasets/master/car_fuel_efficiency.csv'
get_ipython().getoutput("wget $data")


df = pd.read_csv('car_fuel_efficiency.csv')
df





columns = [
    'engine_displacement', 'horsepower', 'vehicle_weight',
    'model_year', 'fuel_efficiency_mpg',
]
df = df[columns]
df





df.describe()


sns.histplot(df.fuel_efficiency_mpg)





def divide_df(df, seed, percent_val=0.2, percent_test=0.2):
    n = len(df)
    n_val = int(n*percent_val)
    n_test = int(n*percent_test)
    n_train = n - n_val - n_test

    idx = np.arange(n)
    np.random.seed(seed)
    np.random.shuffle(idx)

    df_train = df.iloc[idx[:n_train]]
    df_val = df.iloc[idx[n_train:n_train+n_val]]
    df_test = df.iloc[idx[n_train+n_val:]]

    df_train = df_train.reset_index(drop=True)
    df_val = df_val.reset_index(drop=True)
    df_test = df_test.reset_index(drop=True)

    y_train = df_train.fuel_efficiency_mpg.values
    y_val = df_val.fuel_efficiency_mpg.values
    y_test = df_test.fuel_efficiency_mpg.values

    del df_train['fuel_efficiency_mpg']
    del df_val['fuel_efficiency_mpg']
    del df_test['fuel_efficiency_mpg']

    return df_train, df_val, df_test, y_train, y_val, y_test


df_train, df_val, df_test, y_train, y_val, y_test = divide_df(df, 42)
print(len(df_train), len(df_val), len(df_test), len(y_train), len(y_val), len(y_test))





def train_linear_regression_reg(X, y, r=0.0):
    ones = np.ones(X.shape[0])
    X = np.column_stack([ones, X])
    XTX = X.T.dot(X)
    XTX = XTX + r * np.eye(XTX.shape[0])
    XTX_inv = np.linalg.inv(XTX)
    w_full = XTX_inv.dot(X.T).dot(y)
    return w_full[0], w_full[1:]


def rmse(y, y_pred):
    squared_error = (y - y_pred) ** 2
    mean_suqared_error = squared_error.mean()
    return np.sqrt(mean_suqared_error)


def validate_model(df_train, y_train, df_test, y_test, prepare_X, r=0.0):
    X_train = prepare_X(df_train)
    w0, w = train_linear_regression_reg(X_train, y_train, r)
    X_test = prepare_X(df_test)
    y_pred = w0 + X_test.dot(w)
    return rmse(y_test, y_pred)


features = [
    'engine_displacement',
    'horsepower',
    'vehicle_weight',
    'model_year',
]

def prepare_X(filler, df):
    df_num = df.copy()
    df_num = df_num[features]
    df_num = df_num.fillna(filler)
    X = df_num.values
    return X

prepare_X_fill_0 = partial(prepare_X, 0)

horsepower_mean = df_train.horsepower.mean()
prepare_X_fill_mean = partial(prepare_X, horsepower_mean)











df.isnull().sum()








df.horsepower.median()








round(validate_model(df_train, y_train, df_val, y_val, prepare_X_fill_0), 2)


round(validate_model(df_train, y_train, df_val, y_val, prepare_X_fill_mean), 2)








for r in [0, 0.01, 0.1, 1, 5, 10, 100]:
    score = validate_model(df_train, y_train, df_val, y_val, prepare_X_fill_0, r)
    print(r, round(score, 2))





seeds = [0, 1, 2, 3, 4, 5, 6, 7, 8, 9]
scores = []
for seed in seeds:
    df_train_seed, df_val_seed, _, y_train_seed, y_val_seed, _ = divide_df(df, seed)
    score = validate_model(df_train_seed, y_train_seed, df_val_seed, y_val_seed, prepare_X_fill_0)
    scores.append(score)

print(round(np.std(scores), 3))








df_train_seed, df_val_seed, df_test_seed, y_train_seed, y_val_seed, y_test_seed = divide_df(df, 9)
df_train_seed = pd.concat([df_train_seed, df_val_seed])
y_train_seed = np.concatenate([y_train_seed, y_val_seed])


validate_model(df_train_seed, y_train_seed, df_test_seed, y_test_seed, prepare_X_fill_0, 0.001)






